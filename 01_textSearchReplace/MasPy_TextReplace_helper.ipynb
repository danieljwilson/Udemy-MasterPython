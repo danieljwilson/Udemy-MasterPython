{
 "cells": [
  {
   "cell_type": "markdown",
   "metadata": {
    "colab_type": "text",
    "id": "bhWV8oes-wKR"
   },
   "source": [
    "# COURSE: Master Python for scientific programming by solving projects\n",
    "## PROJECT: Text search and replace\n",
    "#### TEACHER: Mike X Cohen, sincxpress.com\n",
    "##### COURSE URL: udemy.com/course/maspy_x/?couponCode=202010"
   ]
  },
  {
   "cell_type": "code",
   "execution_count": 1,
   "metadata": {
    "colab": {},
    "colab_type": "code",
    "id": "JL_0UKJOj1YP"
   },
   "outputs": [],
   "source": [
    "# import all necessary modules\n",
    "# from google.colab import files\n",
    "import re\n",
    "import string\n",
    "import numpy as np"
   ]
  },
  {
   "cell_type": "markdown",
   "metadata": {
    "colab_type": "text",
    "id": "dqmU7gnmbu8L"
   },
   "source": [
    "# Import a text file"
   ]
  },
  {
   "cell_type": "code",
   "execution_count": 2,
   "metadata": {
    "colab": {},
    "colab_type": "code",
    "id": "82RcRrWTcNa8"
   },
   "outputs": [
    {
     "ename": "NameError",
     "evalue": "name 'files' is not defined",
     "output_type": "error",
     "traceback": [
      "\u001b[0;31m---------------------------------------------------------------------------\u001b[0m",
      "\u001b[0;31mNameError\u001b[0m                                 Traceback (most recent call last)",
      "\u001b[0;32m<ipython-input-2-0cf193723241>\u001b[0m in \u001b[0;36m<module>\u001b[0;34m\u001b[0m\n\u001b[1;32m      2\u001b[0m \u001b[0;31m# don't need this since running locally\u001b[0m\u001b[0;34m\u001b[0m\u001b[0;34m\u001b[0m\u001b[0;34m\u001b[0m\u001b[0m\n\u001b[1;32m      3\u001b[0m \u001b[0;34m\u001b[0m\u001b[0m\n\u001b[0;32m----> 4\u001b[0;31m \u001b[0mfile\u001b[0m \u001b[0;34m=\u001b[0m \u001b[0mfiles\u001b[0m\u001b[0;34m.\u001b[0m\u001b[0mupload\u001b[0m\u001b[0;34m(\u001b[0m\u001b[0;34m)\u001b[0m\u001b[0;34m\u001b[0m\u001b[0;34m\u001b[0m\u001b[0m\n\u001b[0m",
      "\u001b[0;31mNameError\u001b[0m: name 'files' is not defined"
     ]
    }
   ],
   "source": [
    "# upload the file \"captions_text.vtt\"\n",
    "# don't need this since running locally\n",
    "\n",
    "file = files.upload()\n"
   ]
  },
  {
   "cell_type": "code",
   "execution_count": 45,
   "metadata": {},
   "outputs": [],
   "source": [
    "# get file locally\n",
    "f = open(\"captions_text.vtt\", \"r\")"
   ]
  },
  {
   "cell_type": "code",
   "execution_count": 46,
   "metadata": {},
   "outputs": [],
   "source": [
    "contents = f.read()"
   ]
  },
  {
   "cell_type": "code",
   "execution_count": 47,
   "metadata": {
    "colab": {},
    "colab_type": "code",
    "id": "yl9WcPCUc_Pr"
   },
   "outputs": [
    {
     "name": "stdout",
     "output_type": "stream",
     "text": [
      "<class 'str'>\n"
     ]
    }
   ],
   "source": [
    "# look at the type and length of variable 'file'.\n",
    "print(type(contents))\n",
    "# extract just the text from the variable 'file' into a variable 'text'\n",
    "\n",
    "text = contents"
   ]
  },
  {
   "cell_type": "code",
   "execution_count": 29,
   "metadata": {},
   "outputs": [
    {
     "data": {
      "text/plain": [
       "\"WEBVTT\\n\\n0\\n00:00.760 --> 00:05.080\\nI'm now going to give you two more example problems of computing.\\n\\n1\\n00:05.080 --> 00:09.310\\neigendecomposition of matrices by hand.\\n\\n2\\n00:09.310 --> 00:14.860\\nObviously this is on the computer but I encourage you to do these problems by hand and they're not done\\n\\n3\\n00:14.860 --> 00:15.520\\nin Matlab.\\n\\n4\\n00:15.520 --> 00:19.270\\nSo I guess that's what it means by hand.\\n\\n5\\n00:19.270 --> 00:20.530\\nSo let's get started.\\n\\n6\\n00:20.560 --> 00:28.030\\nHere is a two by two matrix and you should pause the video go through find the eigenvalues and the eigenvectors\\n\\n7\\n00:28.060 --> 00:37.120\\nof this matrix so the way we start is by shifting the matrix by Lambda so subtracting lambda from the\\n\\n8\\n00:37.120 --> 00:44.260\\ndiagonal elements setting the determinant equal to zero and then proceeding to compute the determinant\\n\\n9\\n00:44.290 --> 00:48.820\\nwhich is also called the characteristic equation of this matrix.\\n\\n10\\n00:48.850 --> 00:57.730\\nSo that works out to be three minus lambda times six minus lambda minus four equals zero and then expanding\\n\\n11\\n00:57.760 --> 01:04.600\\nthese two terms multiplying out these two terms and then collecting the like terms gives us lambda squared\\n\\n12\\n01:04.960 --> 01:13.930\\nminus nine lambda plus fourteen equals zero and then this expression here can be factored into lambda\\n\\n13\\n01:14.020 --> 01:22.150\\nminus seven and Lambda minus two and now it's pretty easy to see that the two lambdas that will solve\\n\\n14\\n01:22.150 --> 01:24.280\\nthis equation that solve this equation.\\n\\n15\\n01:24.280 --> 01:30.910\\nIn other words the two eigenvalues of this matrix are plus 7 and plus two.\\n\\n16\\n01:30.910 --> 01:37.180\\nSo that was step one we found the eigenvalues of this matrix and now we go through for each of these\\n\\n17\\n01:37.180 --> 01:45.160\\neigenvalues shift the matrix by that amount by that value and then figure out what is a vector in the\\n\\n18\\n01:45.280 --> 01:48.410\\nshifted matrices null space.\\n\\n19\\n01:48.630 --> 01:50.530\\nOK so let's start with 2.\\n\\n20\\n01:50.580 --> 01:53.610\\nSo this gives us the matrix 1 1 4 4.\\n\\n21\\n01:53.610 --> 02:00.360\\nAnd now we want to find the missing vector here and you've probably guessed it already it is 1 minus\\n\\n22\\n02:00.360 --> 02:01.470\\n1.\\n\\n23\\n02:01.590 --> 02:09.330\\nAnd of course you know that also acceptable would be minus 1 1 or minus quadrillion plus quadrillion.\\n\\n24\\n02:09.570 --> 02:17.130\\nThis vector simply identifies a subspace for the null space of this shifted matrix in any vector that's\\n\\n25\\n02:17.250 --> 02:23.520\\nin that null space is perfectly fine as an eigenvector.\\n\\n26\\n02:23.520 --> 02:31.860\\nNow that said the best choice for an eigenvector would be a vector that has a norm of 1 a magnitude\\n\\n27\\n02:31.860 --> 02:32.710\\nof 1.\\n\\n28\\n02:32.940 --> 02:39.270\\nAnd the second best choice would be integer values that are easy to interpret and compact to write like\\n\\n29\\n02:39.270 --> 02:40.230\\nthis.\\n\\n30\\n02:40.230 --> 02:40.500\\nAll right.\\n\\n31\\n02:40.520 --> 02:41.730\\nSo this was for two.\\n\\n32\\n02:41.730 --> 02:49.350\\nNow we go to the second eigenvalues which was seven and that gives us this matrix minus 4 1 and 4 minus\\n\\n33\\n02:49.350 --> 02:50.300\\n1.\\n\\n34\\n02:50.370 --> 02:57.210\\nAnd here a vector that could work as an eigenvector as a basis for the null space of this shifted matrix\\n\\n35\\n02:57.300 --> 02:59.790\\nis the numbers 1 4.\\n\\n36\\n02:59.820 --> 03:06.690\\nSo here is the big picture overview we have this matrix and here you see the eigenvalue and its corresponding\\n\\n37\\n03:06.690 --> 03:12.010\\neigenvector and the other eigenvalue and the other corresponding eigenvector.\\n\\n38\\n03:12.060 --> 03:14.080\\nNow your results will be correct.\\n\\n39\\n03:14.190 --> 03:21.960\\nIf you have the correct pairing of eigenvalue and any multiple any scaled version of this vector; it\\n\\n40\\n03:21.960 --> 03:28.860\\ndoesn't matter if you call this lambda one and this V one that's fine because there's no intrinsic ordering.\\n\\n41\\n03:28.860 --> 03:32.250\\nWhat matters is that you have the pairing correct.\\n\\n42\\n03:32.250 --> 03:32.470\\nAll right.\\n\\n43\\n03:32.490 --> 03:34.310\\nSo that was the two by two case.\\n\\n44\\n03:34.380 --> 03:37.080\\nNow let's go for a three by three case.\\n\\n45\\n03:37.080 --> 03:40.160\\nThis one is a little bit more challenging and I have to admit.\\n\\n46\\n03:40.200 --> 03:45.660\\nSo I first came up with these numbers and then I started computing the eigendecomposition.\\n\\n47\\n03:45.660 --> 03:50.480\\nNow I have to admit that I got stuck on one of the eigenvectors.\\n\\n48\\n03:50.670 --> 03:52.400\\nI couldn't quite figure it out on my own.\\n\\n49\\n03:52.430 --> 03:54.390\\nSo I used Matlab to compute that\\n\\n50\\n03:54.390 --> 03:55.200\\neigenvector.\\n\\n51\\n03:55.500 --> 04:04.490\\nSo what I encourage you to do is find all three eigenvalues by hand and I think it will be pretty obvious\\n\\n52\\n04:04.490 --> 04:08.390\\nwhen you start working through it which is the difficult eigenvalue.\\n\\n53\\n04:08.390 --> 04:15.530\\nSo then what you should do by hand is find two of the eigenvectors that you can get basically just by\\n\\n54\\n04:15.800 --> 04:18.920\\nkind of eyeballing and making some educated guesses.\\n\\n55\\n04:18.920 --> 04:24.860\\nAnd then the third eigenvector you can use a computer to solve or you can just wait and watch me come\\n\\n56\\n04:24.860 --> 04:26.660\\nup with a solution.\\n\\n57\\n04:26.850 --> 04:27.090\\nAll right.\\n\\n58\\n04:27.120 --> 04:34.590\\nSo again we start by shifting this matrix by minus lambda setting the determinant equal to zero and\\n\\n59\\n04:34.590 --> 04:40.770\\nthen proceeding to compute the determinant of this equation and altogether that gives us the characteristic\\n\\n60\\n04:40.830 --> 04:43.560\\nequation of this matrix.\\n\\n61\\n04:43.560 --> 04:45.270\\nNow this is a little bit longer.\\n\\n62\\n04:45.270 --> 04:50.820\\nIt's a little bit trickier the arithmetic gets a little bit hairy in particular you end up with this\\n\\n63\\n04:50.910 --> 04:59.240\\nminus lambda cubed term as well as a couple of multiple terms with Lambda and Lambda squared.\\n\\n64\\n04:59.250 --> 05:05.490\\nNow once you collect all of these like terms you'll end up with an expression that looks like this.\\n\\n65\\n05:05.520 --> 05:15.240\\nSo it should be minus lambda cubed plus 10 times lambda squared plus eleven lambda equals zero Now something\\n\\n66\\n05:15.270 --> 05:22.030\\ninteresting has happened here all of these terms have a lambda attached to them which means that we\\n\\n67\\n05:22.030 --> 05:29.950\\ncan take a lambda out of each of these terms and rewrite this expression as minus lambda times.\\n\\n68\\n05:29.980 --> 05:36.160\\nAll of this stuff and immediately that tells us that lambda equals zero is a solution.\\n\\n69\\n05:36.160 --> 05:43.030\\nSo when you set this lambda to be zero it doesn't actually matter what's inside this parenthetical statement\\n\\n70\\n05:43.360 --> 05:47.390\\nthat's immediately going to set to make this equation true.\\n\\n71\\n05:47.440 --> 05:55.300\\nThat means that one of the eigenvalues of this matrix is zero and I'm going to have an entire video\\n\\n72\\n05:55.330 --> 05:59.140\\njust about this phenomenon a little bit later in this section.\\n\\n73\\n05:59.140 --> 06:03.550\\nBut essentially when an eigenvector is an eigenvalue is zero.\\n\\n74\\n06:03.730 --> 06:10.360\\nIt means that the matrix is singular and that you can actually see by looking at this matrix and you\\n\\n75\\n06:10.360 --> 06:19.080\\nsee that column 1 plus column 2 equals column 3 so whenever you have a singular matrix at least one\\n\\n76\\n06:19.140 --> 06:22.110\\neigenvalues value is going to be equal to zero.\\n\\n77\\n06:22.170 --> 06:30.450\\nAnd in fact the number of eigenvalues that are equal to zero tells you about the rank of this matrix.\\n\\n78\\n06:30.490 --> 06:33.870\\nMore on that in the later video.\\n\\n79\\n06:33.880 --> 06:39.160\\nNow once you've gotten to this step you can further factor this equation and you end up with the result\\n\\n80\\n06:39.160 --> 06:44.360\\nthat lambda equals zero lambda equals minus 1 and Lambda equals eleven.\\n\\n81\\n06:44.590 --> 06:50.110\\nSo you can probably guess that this is going to be the tricky I can value to compute the corresponding\\n\\n82\\n06:50.110 --> 06:55.600\\nI can vector of and this is the one that I got a little bit stuck with.\\n\\n83\\n06:55.600 --> 06:57.490\\nAnd so I used Matlab as a crutch.\\n\\n84\\n06:57.490 --> 06:58.540\\nI cheated a little bit.\\n\\n85\\n06:59.250 --> 07:01.500\\nOK so but let's go through all of these.\\n\\n86\\n07:01.840 --> 07:07.840\\nSo we start with zero and now this is kind of a funny thing because we are shifting the matrix by zero\\n\\n87\\n07:08.200 --> 07:10.970\\nwhich actually means we're not changing the matrix at all.\\n\\n88\\n07:11.140 --> 07:21.000\\nAnd that means that this matrix A already has a non-trivial null space even without doing any shifting.\\n\\n89\\n07:21.130 --> 07:28.010\\nSo this problem actually boils down to finding a vector in the null space or a basis for the null space.\\n\\n90\\n07:28.270 --> 07:35.380\\nEven without doing any shifting so based on what I just told you about how do I set up this matrix that\\n\\n91\\n07:35.660 --> 07:42.950\\ncolumn one plus column two equals column three a basis for the null space is 1 one minus 1.\\n\\n92\\n07:42.970 --> 07:49.130\\nSo you can try for each of these rows the first column plus the second column minus the third column\\n\\n93\\n07:49.220 --> 07:52.090\\nequals zero all right.\\n\\n94\\n07:52.100 --> 07:53.270\\nSo now let's move on.\\n\\n95\\n07:53.270 --> 07:59.350\\nSo now we shift this matrix by eleven and this is basically where I got stuck and switch to matlab.\\n\\n96\\n07:59.360 --> 08:04.570\\nSo it turns out that eigenvector is nineteen forty one and thirty six.\\n\\n97\\n08:04.580 --> 08:10.430\\nSo if you figured out this I can vector on your own without using a computer then good for you you are\\n\\n98\\n08:10.460 --> 08:14.960\\na better or at least more patient mathematician than I am.\\n\\n99\\n08:15.200 --> 08:19.210\\nAnd then we get to the third eigenvalue which was minus one.\\n\\n100\\n08:19.220 --> 08:21.130\\nSo now that becomes plus one.\\n\\n101\\n08:21.230 --> 08:26.390\\nAnd here is that shifted matrix and this one you should be able to solve on your own.\\n\\n102\\n08:26.480 --> 08:28.810\\nIn fact it's even easier than it looks.\\n\\n103\\n08:28.820 --> 08:35.930\\nAnd if you need a hint before I show the answer then the hint is just consider that this third column\\n\\n104\\n08:36.020 --> 08:42.340\\nis actually pretty useless if you get rid of this third column it becomes really easy to find the \\n\\n105\\n08:42.380 --> 08:46.520\\neigenvector in this shifted matrices null space.\\n\\n106\\n08:46.790 --> 08:52.400\\nSo in fact it's one minus one and then zero you just set the third element to be zero.\\n\\n107\\n08:52.670 --> 08:59.810\\nSo that leads us to the big picture overview of the eigendecomposition of this three by three singular\\n\\n108\\n08:59.810 --> 09:06.130\\nmatrix rank 2 matrix we have eigenvalues 0 minus 11 and minus 1.\\n\\n109\\n09:06.200 --> 09:09.200\\nAnd these are the corresponding eigenvectors.\\n\\n110\\n09:09.200 --> 09:12.430\\nAnd notice I've written them as row vectors and then transpose.\\n\\n111\\n09:12.430 --> 09:19.160\\nSo these are still column vectors we generally always think about eigenvectors as column vectors and\\n\\n112\\n09:19.160 --> 09:25.640\\nyou will learn more about why that is the case in the video on diagonalization, which is coming up soon.\""
      ]
     },
     "execution_count": 29,
     "metadata": {},
     "output_type": "execute_result"
    }
   ],
   "source": [
    "text"
   ]
  },
  {
   "cell_type": "markdown",
   "metadata": {
    "colab_type": "text",
    "id": "0pGZgggkiHXs"
   },
   "source": [
    "# Remove formatting text"
   ]
  },
  {
   "cell_type": "markdown",
   "metadata": {},
   "source": [
    "## Examples"
   ]
  },
  {
   "cell_type": "code",
   "execution_count": 30,
   "metadata": {
    "colab": {},
    "colab_type": "code",
    "id": "IPwVS7KNl791"
   },
   "outputs": [],
   "source": [
    "# quick intro to matching with regex\n",
    "sentence = \"Hi, my name is Mike and I like to eat mike's purple chocolate.\"\n",
    "\n",
    "regex_name = re.compile('Mike',  re.IGNORECASE) # case sensitive\n",
    "# find all occurences of 'Mike'"
   ]
  },
  {
   "cell_type": "code",
   "execution_count": 31,
   "metadata": {},
   "outputs": [
    {
     "data": {
      "text/plain": [
       "['Mike', 'mike']"
      ]
     },
     "execution_count": 31,
     "metadata": {},
     "output_type": "execute_result"
    }
   ],
   "source": [
    "regex_name.findall(sentence)"
   ]
  },
  {
   "cell_type": "code",
   "execution_count": 34,
   "metadata": {},
   "outputs": [],
   "source": [
    "x = regex_name.match(sentence)\n",
    "x"
   ]
  },
  {
   "cell_type": "code",
   "execution_count": 47,
   "metadata": {},
   "outputs": [
    {
     "name": "stdout",
     "output_type": "stream",
     "text": [
      "(15, 19)\n",
      "(38, 42)\n"
     ]
    }
   ],
   "source": [
    "p = re.compile('Mike', re.IGNORECASE)\n",
    "m = p.finditer(sentence)\n",
    "\n",
    "for match in m:\n",
    "    print(match.span())"
   ]
  },
  {
   "cell_type": "code",
   "execution_count": 49,
   "metadata": {
    "colab": {},
    "colab_type": "code",
    "id": "EDOWrWczmcMB"
   },
   "outputs": [
    {
     "data": {
      "text/plain": [
       "\"Hi, my name is Mike X and I like to eat Mike X's purple chocolate.\""
      ]
     },
     "execution_count": 49,
     "metadata": {},
     "output_type": "execute_result"
    }
   ],
   "source": [
    "# substitution: replace 'Mike' with 'Mike X' \n",
    "re.sub(regex_name, 'Mike X', sentence)"
   ]
  },
  {
   "cell_type": "code",
   "execution_count": null,
   "metadata": {},
   "outputs": [],
   "source": [
    "# alt syntax\n",
    "regex_name.sub('Mike X', sentence)"
   ]
  },
  {
   "cell_type": "code",
   "execution_count": 54,
   "metadata": {},
   "outputs": [
    {
     "name": "stdout",
     "output_type": "stream",
     "text": [
      "Hi, my name is Adam and I like to eat Adam's purple chocolate.\n",
      "Hi, my name is Bob and I like to eat Bob's purple chocolate.\n",
      "Hi, my name is Charles and I like to eat Charles's purple chocolate.\n"
     ]
    }
   ],
   "source": [
    "names = ['Adam', 'Bob', 'Charles']\n",
    "\n",
    "for name in names:\n",
    "    print( regex_name.sub(name,sentence))"
   ]
  },
  {
   "cell_type": "code",
   "execution_count": 53,
   "metadata": {
    "colab": {},
    "colab_type": "code",
    "id": "3Z9IjJ-Bmpua"
   },
   "outputs": [
    {
     "data": {
      "text/plain": [
       "['Mike', 'Muke']"
      ]
     },
     "execution_count": 53,
     "metadata": {},
     "output_type": "execute_result"
    }
   ],
   "source": [
    "# searching with wildcards\n",
    "sentence = \"Hi, my name is Mike and I like to eat Muke's purple chocolate.\"\n",
    "\n",
    "# find all instances of M< >ke, where < > is any possible letter\n",
    "regex_name = re.compile('M.ke') # single letter wildcard = .\n",
    "\n",
    "re.findall(regex_name, sentence)"
   ]
  },
  {
   "cell_type": "code",
   "execution_count": 56,
   "metadata": {},
   "outputs": [
    {
     "data": {
      "text/plain": [
       "['Mike', 'Muke']"
      ]
     },
     "execution_count": 56,
     "metadata": {},
     "output_type": "execute_result"
    }
   ],
   "source": [
    "# ALT\n",
    "# searching with wildcards\n",
    "sentence = \"Hi, my name is Mike and I like to eat Muke's purple chocolate.\"\n",
    "\n",
    "# find all instances of M< >ke, where < > is any possible letter\n",
    "regex_name = re.compile(r'M\\wke') # r makes it literal, \\w = any letter/#\n",
    "\n",
    "regex_name.findall(sentence)"
   ]
  },
  {
   "cell_type": "markdown",
   "metadata": {},
   "source": [
    "## Actual Text"
   ]
  },
  {
   "cell_type": "code",
   "execution_count": 48,
   "metadata": {
    "colab": {},
    "colab_type": "code",
    "id": "c9MlwfgAdwT5"
   },
   "outputs": [
    {
     "data": {
      "text/plain": [
       "\"WEBVTT I'm now going to give you two more example problems of computing. eigendecomposition of matrices by hand. Obviously this is on the computer but I encourage you to do these problems by hand and they're not done in Matlab. So I guess that's what it means by hand. So let's get started. Here is a two by two matrix and you should pause the video go through find the eigenvalues and the eigenvectors of this matrix so the way we start is by shifting the matrix by Lambda so subtracting lambda from the diagonal elements setting the determinant equal to zero and then proceeding to compute the determinant which is also called the characteristic equation of this matrix.\\n\\n10\\n00:48.850 --> 00:57.730\\nSo that works out to be three minus lambda times six minus lambda minus four equals zero and then expanding\\n\\n11\\n00:57.760 --> 01:04.600\\nthese two terms multiplying out these two terms and then collecting the like terms gives us lambda squared\\n\\n12\\n01:04.960 --> 01:13.930\\nminus nine lambda plus fourteen equals zero and then this expression here can be factored into lambda\\n\\n13\\n01:14.020 --> 01:22.150\\nminus seven and Lambda minus two and now it's pretty easy to see that the two lambdas that will solve\\n\\n14\\n01:22.150 --> 01:24.280\\nthis equation that solve this equation.\\n\\n15\\n01:24.280 --> 01:30.910\\nIn other words the two eigenvalues of this matrix are plus 7 and plus two.\\n\\n16\\n01:30.910 --> 01:37.180\\nSo that was step one we found the eigenvalues of this matrix and now we go through for each of these\\n\\n17\\n01:37.180 --> 01:45.160\\neigenvalues shift the matrix by that amount by that value and then figure out what is a vector in the\\n\\n18\\n01:45.280 --> 01:48.410\\nshifted matrices null space.\\n\\n19\\n01:48.630 --> 01:50.530\\nOK so let's start with 2.\\n\\n20\\n01:50.580 --> 01:53.610\\nSo this gives us the matrix 1 1 4 4.\\n\\n21\\n01:53.610 --> 02:00.360\\nAnd now we want to find the missing vector here and you've probably guessed it already it is 1 minus\\n\\n22\\n02:00.360 --> 02:01.470\\n1.\\n\\n23\\n02:01.590 --> 02:09.330\\nAnd of course you know that also acceptable would be minus 1 1 or minus quadrillion plus quadrillion.\\n\\n24\\n02:09.570 --> 02:17.130\\nThis vector simply identifies a subspace for the null space of this shifted matrix in any vector that's\\n\\n25\\n02:17.250 --> 02:23.520\\nin that null space is perfectly fine as an eigenvector.\\n\\n26\\n02:23.520 --> 02:31.860\\nNow that said the best choice for an eigenvector would be a vector that has a norm of 1 a magnitude\\n\\n27\\n02:31.860 --> 02:32.710\\nof 1.\\n\\n28\\n02:32.940 --> 02:39.270\\nAnd the second best choice would be integer values that are easy to interpret and compact to write like\\n\\n29\\n02:39.270 --> 02:40.230\\nthis.\\n\\n30\\n02:40.230 --> 02:40.500\\nAll right.\\n\\n31\\n02:40.520 --> 02:41.730\\nSo this was for two.\\n\\n32\\n02:41.730 --> 02:49.350\\nNow we go to the second eigenvalues which was seven and that gives us this matrix minus 4 1 and 4 minus\\n\\n33\\n02:49.350 --> 02:50.300\\n1.\\n\\n34\\n02:50.370 --> 02:57.210\\nAnd here a vector that could work as an eigenvector as a basis for the null space of this shifted matrix\\n\\n35\\n02:57.300 --> 02:59.790\\nis the numbers 1 4.\\n\\n36\\n02:59.820 --> 03:06.690\\nSo here is the big picture overview we have this matrix and here you see the eigenvalue and its corresponding\\n\\n37\\n03:06.690 --> 03:12.010\\neigenvector and the other eigenvalue and the other corresponding eigenvector.\\n\\n38\\n03:12.060 --> 03:14.080\\nNow your results will be correct.\\n\\n39\\n03:14.190 --> 03:21.960\\nIf you have the correct pairing of eigenvalue and any multiple any scaled version of this vector; it\\n\\n40\\n03:21.960 --> 03:28.860\\ndoesn't matter if you call this lambda one and this V one that's fine because there's no intrinsic ordering.\\n\\n41\\n03:28.860 --> 03:32.250\\nWhat matters is that you have the pairing correct.\\n\\n42\\n03:32.250 --> 03:32.470\\nAll right.\\n\\n43\\n03:32.490 --> 03:34.310\\nSo that was the two by two case.\\n\\n44\\n03:34.380 --> 03:37.080\\nNow let's go for a three by three case.\\n\\n45\\n03:37.080 --> 03:40.160\\nThis one is a little bit more challenging and I have to admit.\\n\\n46\\n03:40.200 --> 03:45.660\\nSo I first came up with these numbers and then I started computing the eigendecomposition.\\n\\n47\\n03:45.660 --> 03:50.480\\nNow I have to admit that I got stuck on one of the eigenvectors.\\n\\n48\\n03:50.670 --> 03:52.400\\nI couldn't quite figure it out on my own.\\n\\n49\\n03:52.430 --> 03:54.390\\nSo I used Matlab to compute that\\n\\n50\\n03:54.390 --> 03:55.200\\neigenvector.\\n\\n51\\n03:55.500 --> 04:04.490\\nSo what I encourage you to do is find all three eigenvalues by hand and I think it will be pretty obvious\\n\\n52\\n04:04.490 --> 04:08.390\\nwhen you start working through it which is the difficult eigenvalue.\\n\\n53\\n04:08.390 --> 04:15.530\\nSo then what you should do by hand is find two of the eigenvectors that you can get basically just by\\n\\n54\\n04:15.800 --> 04:18.920\\nkind of eyeballing and making some educated guesses.\\n\\n55\\n04:18.920 --> 04:24.860\\nAnd then the third eigenvector you can use a computer to solve or you can just wait and watch me come\\n\\n56\\n04:24.860 --> 04:26.660\\nup with a solution.\\n\\n57\\n04:26.850 --> 04:27.090\\nAll right.\\n\\n58\\n04:27.120 --> 04:34.590\\nSo again we start by shifting this matrix by minus lambda setting the determinant equal to zero and\\n\\n59\\n04:34.590 --> 04:40.770\\nthen proceeding to compute the determinant of this equation and altogether that gives us the characteristic\\n\\n60\\n04:40.830 --> 04:43.560\\nequation of this matrix.\\n\\n61\\n04:43.560 --> 04:45.270\\nNow this is a little bit longer.\\n\\n62\\n04:45.270 --> 04:50.820\\nIt's a little bit trickier the arithmetic gets a little bit hairy in particular you end up with this\\n\\n63\\n04:50.910 --> 04:59.240\\nminus lambda cubed term as well as a couple of multiple terms with Lambda and Lambda squared.\\n\\n64\\n04:59.250 --> 05:05.490\\nNow once you collect all of these like terms you'll end up with an expression that looks like this.\\n\\n65\\n05:05.520 --> 05:15.240\\nSo it should be minus lambda cubed plus 10 times lambda squared plus eleven lambda equals zero Now something\\n\\n66\\n05:15.270 --> 05:22.030\\ninteresting has happened here all of these terms have a lambda attached to them which means that we\\n\\n67\\n05:22.030 --> 05:29.950\\ncan take a lambda out of each of these terms and rewrite this expression as minus lambda times.\\n\\n68\\n05:29.980 --> 05:36.160\\nAll of this stuff and immediately that tells us that lambda equals zero is a solution.\\n\\n69\\n05:36.160 --> 05:43.030\\nSo when you set this lambda to be zero it doesn't actually matter what's inside this parenthetical statement\\n\\n70\\n05:43.360 --> 05:47.390\\nthat's immediately going to set to make this equation true.\\n\\n71\\n05:47.440 --> 05:55.300\\nThat means that one of the eigenvalues of this matrix is zero and I'm going to have an entire video\\n\\n72\\n05:55.330 --> 05:59.140\\njust about this phenomenon a little bit later in this section.\\n\\n73\\n05:59.140 --> 06:03.550\\nBut essentially when an eigenvector is an eigenvalue is zero.\\n\\n74\\n06:03.730 --> 06:10.360\\nIt means that the matrix is singular and that you can actually see by looking at this matrix and you\\n\\n75\\n06:10.360 --> 06:19.080\\nsee that column 1 plus column 2 equals column 3 so whenever you have a singular matrix at least one\\n\\n76\\n06:19.140 --> 06:22.110\\neigenvalues value is going to be equal to zero.\\n\\n77\\n06:22.170 --> 06:30.450\\nAnd in fact the number of eigenvalues that are equal to zero tells you about the rank of this matrix.\\n\\n78\\n06:30.490 --> 06:33.870\\nMore on that in the later video.\\n\\n79\\n06:33.880 --> 06:39.160\\nNow once you've gotten to this step you can further factor this equation and you end up with the result\\n\\n80\\n06:39.160 --> 06:44.360\\nthat lambda equals zero lambda equals minus 1 and Lambda equals eleven.\\n\\n81\\n06:44.590 --> 06:50.110\\nSo you can probably guess that this is going to be the tricky I can value to compute the corresponding\\n\\n82\\n06:50.110 --> 06:55.600\\nI can vector of and this is the one that I got a little bit stuck with.\\n\\n83\\n06:55.600 --> 06:57.490\\nAnd so I used Matlab as a crutch.\\n\\n84\\n06:57.490 --> 06:58.540\\nI cheated a little bit.\\n\\n85\\n06:59.250 --> 07:01.500\\nOK so but let's go through all of these.\\n\\n86\\n07:01.840 --> 07:07.840\\nSo we start with zero and now this is kind of a funny thing because we are shifting the matrix by zero\\n\\n87\\n07:08.200 --> 07:10.970\\nwhich actually means we're not changing the matrix at all.\\n\\n88\\n07:11.140 --> 07:21.000\\nAnd that means that this matrix A already has a non-trivial null space even without doing any shifting.\\n\\n89\\n07:21.130 --> 07:28.010\\nSo this problem actually boils down to finding a vector in the null space or a basis for the null space.\\n\\n90\\n07:28.270 --> 07:35.380\\nEven without doing any shifting so based on what I just told you about how do I set up this matrix that\\n\\n91\\n07:35.660 --> 07:42.950\\ncolumn one plus column two equals column three a basis for the null space is 1 one minus 1.\\n\\n92\\n07:42.970 --> 07:49.130\\nSo you can try for each of these rows the first column plus the second column minus the third column\\n\\n93\\n07:49.220 --> 07:52.090\\nequals zero all right.\\n\\n94\\n07:52.100 --> 07:53.270\\nSo now let's move on.\\n\\n95\\n07:53.270 --> 07:59.350\\nSo now we shift this matrix by eleven and this is basically where I got stuck and switch to matlab.\\n\\n96\\n07:59.360 --> 08:04.570\\nSo it turns out that eigenvector is nineteen forty one and thirty six.\\n\\n97\\n08:04.580 --> 08:10.430\\nSo if you figured out this I can vector on your own without using a computer then good for you you are\\n\\n98\\n08:10.460 --> 08:14.960\\na better or at least more patient mathematician than I am.\\n\\n99\\n08:15.200 --> 08:19.210\\nAnd then we get to the third eigenvalue which was minus one.\\n\\n100\\n08:19.220 --> 08:21.130\\nSo now that becomes plus one.\\n\\n101\\n08:21.230 --> 08:26.390\\nAnd here is that shifted matrix and this one you should be able to solve on your own.\\n\\n102\\n08:26.480 --> 08:28.810\\nIn fact it's even easier than it looks.\\n\\n103\\n08:28.820 --> 08:35.930\\nAnd if you need a hint before I show the answer then the hint is just consider that this third column\\n\\n104\\n08:36.020 --> 08:42.340\\nis actually pretty useless if you get rid of this third column it becomes really easy to find the \\n\\n105\\n08:42.380 --> 08:46.520\\neigenvector in this shifted matrices null space.\\n\\n106\\n08:46.790 --> 08:52.400\\nSo in fact it's one minus one and then zero you just set the third element to be zero.\\n\\n107\\n08:52.670 --> 08:59.810\\nSo that leads us to the big picture overview of the eigendecomposition of this three by three singular\\n\\n108\\n08:59.810 --> 09:06.130\\nmatrix rank 2 matrix we have eigenvalues 0 minus 11 and minus 1.\\n\\n109\\n09:06.200 --> 09:09.200\\nAnd these are the corresponding eigenvectors.\\n\\n110\\n09:09.200 --> 09:12.430\\nAnd notice I've written them as row vectors and then transpose.\\n\\n111\\n09:12.430 --> 09:19.160\\nSo these are still column vectors we generally always think about eigenvectors as column vectors and\\n\\n112\\n09:19.160 --> 09:25.640\\nyou will learn more about why that is the case in the video on diagonalization, which is coming up soon.\""
      ]
     },
     "execution_count": 48,
     "metadata": {},
     "output_type": "execute_result"
    }
   ],
   "source": [
    "# character strings to replace with space\n",
    "# pattern: \\n\\n0\\n00:00.760 --> 00:05.080\\n\n",
    "'\\n\\n?\\n??:??.??? --> ??:??.???\\n'\n",
    "\n",
    "pattern2replace = r'\\\\n\\\\n\\d\\\\n\\d\\d:\\d\\d.\\d\\d\\d --> \\d\\d:\\d\\d.\\d\\d\\d\\\\n'\n",
    "pattern2replace = r'\\n\\n\\d\\n\\d\\d:\\d\\d.\\d\\d\\d --> \\d\\d:\\d\\d.\\d\\d\\d\\n'\n",
    "pattern2replace = r'\\n\\n.\\n..:...... --> ..:......\\n' # the \\n.*\\n allows removing 1,2, or 3 digits as it counts up\n",
    "\n",
    "regex_pat = re.compile(pattern2replace)\n",
    "\n",
    "# replace anything match the above pattern with a space\n",
    "regex_pat.sub(' ', text)"
   ]
  },
  {
   "cell_type": "code",
   "execution_count": 49,
   "metadata": {
    "colab": {},
    "colab_type": "code",
    "id": "7zjfFlxyp-zk"
   },
   "outputs": [
    {
     "data": {
      "text/plain": [
       "\"WEBVTT I'm now going to give you two more example problems of computing. eigendecomposition of matrices by hand. Obviously this is on the computer but I encourage you to do these problems by hand and they're not done in Matlab. So I guess that's what it means by hand. So let's get started. Here is a two by two matrix and you should pause the video go through find the eigenvalues and the eigenvectors of this matrix so the way we start is by shifting the matrix by Lambda so subtracting lambda from the diagonal elements setting the determinant equal to zero and then proceeding to compute the determinant which is also called the characteristic equation of this matrix. So that works out to be three minus lambda times six minus lambda minus four equals zero and then expanding these two terms multiplying out these two terms and then collecting the like terms gives us lambda squared minus nine lambda plus fourteen equals zero and then this expression here can be factored into lambda minus seven and Lambda minus two and now it's pretty easy to see that the two lambdas that will solve this equation that solve this equation. In other words the two eigenvalues of this matrix are plus 7 and plus two. So that was step one we found the eigenvalues of this matrix and now we go through for each of these eigenvalues shift the matrix by that amount by that value and then figure out what is a vector in the shifted matrices null space. OK so let's start with 2. So this gives us the matrix 1 1 4 4. And now we want to find the missing vector here and you've probably guessed it already it is 1 minus 1. And of course you know that also acceptable would be minus 1 1 or minus quadrillion plus quadrillion. This vector simply identifies a subspace for the null space of this shifted matrix in any vector that's in that null space is perfectly fine as an eigenvector. Now that said the best choice for an eigenvector would be a vector that has a norm of 1 a magnitude of 1. And the second best choice would be integer values that are easy to interpret and compact to write like this. All right. So this was for two. Now we go to the second eigenvalues which was seven and that gives us this matrix minus 4 1 and 4 minus 1. And here a vector that could work as an eigenvector as a basis for the null space of this shifted matrix is the numbers 1 4. So here is the big picture overview we have this matrix and here you see the eigenvalue and its corresponding eigenvector and the other eigenvalue and the other corresponding eigenvector. Now your results will be correct. If you have the correct pairing of eigenvalue and any multiple any scaled version of this vector; it doesn't matter if you call this lambda one and this V one that's fine because there's no intrinsic ordering. What matters is that you have the pairing correct. All right. So that was the two by two case. Now let's go for a three by three case. This one is a little bit more challenging and I have to admit. So I first came up with these numbers and then I started computing the eigendecomposition. Now I have to admit that I got stuck on one of the eigenvectors. I couldn't quite figure it out on my own. So I used Matlab to compute that eigenvector. So what I encourage you to do is find all three eigenvalues by hand and I think it will be pretty obvious when you start working through it which is the difficult eigenvalue. So then what you should do by hand is find two of the eigenvectors that you can get basically just by kind of eyeballing and making some educated guesses. And then the third eigenvector you can use a computer to solve or you can just wait and watch me come up with a solution. All right. So again we start by shifting this matrix by minus lambda setting the determinant equal to zero and then proceeding to compute the determinant of this equation and altogether that gives us the characteristic equation of this matrix. Now this is a little bit longer. It's a little bit trickier the arithmetic gets a little bit hairy in particular you end up with this minus lambda cubed term as well as a couple of multiple terms with Lambda and Lambda squared. Now once you collect all of these like terms you'll end up with an expression that looks like this. So it should be minus lambda cubed plus 10 times lambda squared plus eleven lambda equals zero Now something interesting has happened here all of these terms have a lambda attached to them which means that we can take a lambda out of each of these terms and rewrite this expression as minus lambda times. All of this stuff and immediately that tells us that lambda equals zero is a solution. So when you set this lambda to be zero it doesn't actually matter what's inside this parenthetical statement that's immediately going to set to make this equation true. That means that one of the eigenvalues of this matrix is zero and I'm going to have an entire video just about this phenomenon a little bit later in this section. But essentially when an eigenvector is an eigenvalue is zero. It means that the matrix is singular and that you can actually see by looking at this matrix and you see that column 1 plus column 2 equals column 3 so whenever you have a singular matrix at least one eigenvalues value is going to be equal to zero. And in fact the number of eigenvalues that are equal to zero tells you about the rank of this matrix. More on that in the later video. Now once you've gotten to this step you can further factor this equation and you end up with the result that lambda equals zero lambda equals minus 1 and Lambda equals eleven. So you can probably guess that this is going to be the tricky I can value to compute the corresponding I can vector of and this is the one that I got a little bit stuck with. And so I used Matlab as a crutch. I cheated a little bit. OK so but let's go through all of these. So we start with zero and now this is kind of a funny thing because we are shifting the matrix by zero which actually means we're not changing the matrix at all. And that means that this matrix A already has a non-trivial null space even without doing any shifting. So this problem actually boils down to finding a vector in the null space or a basis for the null space. Even without doing any shifting so based on what I just told you about how do I set up this matrix that column one plus column two equals column three a basis for the null space is 1 one minus 1. So you can try for each of these rows the first column plus the second column minus the third column equals zero all right. So now let's move on. So now we shift this matrix by eleven and this is basically where I got stuck and switch to matlab. So it turns out that eigenvector is nineteen forty one and thirty six. So if you figured out this I can vector on your own without using a computer then good for you you are a better or at least more patient mathematician than I am. And then we get to the third eigenvalue which was minus one. So now that becomes plus one. And here is that shifted matrix and this one you should be able to solve on your own. In fact it's even easier than it looks. And if you need a hint before I show the answer then the hint is just consider that this third column is actually pretty useless if you get rid of this third column it becomes really easy to find the  eigenvector in this shifted matrices null space. So in fact it's one minus one and then zero you just set the third element to be zero. So that leads us to the big picture overview of the eigendecomposition of this three by three singular matrix rank 2 matrix we have eigenvalues 0 minus 11 and minus 1. And these are the corresponding eigenvectors. And notice I've written them as row vectors and then transpose. So these are still column vectors we generally always think about eigenvectors as column vectors and you will learn more about why that is the case in the video on diagonalization, which is coming up soon.\""
      ]
     },
     "execution_count": 49,
     "metadata": {},
     "output_type": "execute_result"
    }
   ],
   "source": [
    "# same as above but with any repeats of the number (\\d)\n",
    "# character strings to replace with space\n",
    "# pattern: \\n\\n0\\n00:00.760 --> 00:05.080\\n\n",
    "'\\n\\n?\\n??:??.??? --> ??:??.???\\n'\n",
    "\n",
    "pattern2replace = r'\\\\n\\\\n\\d\\\\n\\d\\d:\\d\\d.\\d\\d\\d --> \\d\\d:\\d\\d.\\d\\d\\d\\\\n'\n",
    "pattern2replace = r'\\n\\n\\d\\n\\d\\d:\\d\\d.\\d\\d\\d --> \\d\\d:\\d\\d.\\d\\d\\d\\n'\n",
    "pattern2replace = r'\\n\\n.*\\n..:...... --> ..:......\\n' # the \\n.*\\n allows removing 1,2, or 3 digits as it counts up\n",
    "\n",
    "regex_pat = re.compile(pattern2replace)\n",
    "\n",
    "# replace anything match the above pattern with a space\n",
    "regex_pat.sub(' ', text)"
   ]
  },
  {
   "cell_type": "code",
   "execution_count": 50,
   "metadata": {
    "colab": {},
    "colab_type": "code",
    "id": "ESg7tsK9fBde"
   },
   "outputs": [
    {
     "data": {
      "text/plain": [
       "\"\\n\\n0\\n00:00.760 --> 00:05.080\\nI'm now going to give you two more example problems of computing.\\n\\n1\\n00:05.080 --> 00:09.310\\neigendecomposition of matrices by hand.\\n\\n2\\n00:09.310 --> 00:14.860\\nObviously this is on the computer but I encourage you to do these problems by hand and they're not done\\n\\n3\\n00:14.860 --> 00:15.520\\nin Matlab.\\n\\n4\\n00:15.520 --> 00:19.270\\nSo I guess that's what it means by hand.\\n\\n5\\n00:19.270 --> 00:20.530\\nSo let's get started.\\n\\n6\\n00:20.560 --> 00:28.030\\nHere is a two by two matrix and you should pause the video go through find the eigenvalues and the eigenvectors\\n\\n7\\n00:28.060 --> 00:37.120\\nof this matrix so the way we start is by shifting the matrix by Lambda so subtracting lambda from the\\n\\n8\\n00:37.120 --> 00:44.260\\ndiagonal elements setting the determinant equal to zero and then proceeding to compute the determinant\\n\\n9\\n00:44.290 --> 00:48.820\\nwhich is also called the characteristic equation of this matrix.\\n\\n10\\n00:48.850 --> 00:57.730\\nSo that works out to be three minus lambda times six minus lambda minus four equals zero and then expanding\\n\\n11\\n00:57.760 --> 01:04.600\\nthese two terms multiplying out these two terms and then collecting the like terms gives us lambda squared\\n\\n12\\n01:04.960 --> 01:13.930\\nminus nine lambda plus fourteen equals zero and then this expression here can be factored into lambda\\n\\n13\\n01:14.020 --> 01:22.150\\nminus seven and Lambda minus two and now it's pretty easy to see that the two lambdas that will solve\\n\\n14\\n01:22.150 --> 01:24.280\\nthis equation that solve this equation.\\n\\n15\\n01:24.280 --> 01:30.910\\nIn other words the two eigenvalues of this matrix are plus 7 and plus two.\\n\\n16\\n01:30.910 --> 01:37.180\\nSo that was step one we found the eigenvalues of this matrix and now we go through for each of these\\n\\n17\\n01:37.180 --> 01:45.160\\neigenvalues shift the matrix by that amount by that value and then figure out what is a vector in the\\n\\n18\\n01:45.280 --> 01:48.410\\nshifted matrices null space.\\n\\n19\\n01:48.630 --> 01:50.530\\nOK so let's start with 2.\\n\\n20\\n01:50.580 --> 01:53.610\\nSo this gives us the matrix 1 1 4 4.\\n\\n21\\n01:53.610 --> 02:00.360\\nAnd now we want to find the missing vector here and you've probably guessed it already it is 1 minus\\n\\n22\\n02:00.360 --> 02:01.470\\n1.\\n\\n23\\n02:01.590 --> 02:09.330\\nAnd of course you know that also acceptable would be minus 1 1 or minus quadrillion plus quadrillion.\\n\\n24\\n02:09.570 --> 02:17.130\\nThis vector simply identifies a subspace for the null space of this shifted matrix in any vector that's\\n\\n25\\n02:17.250 --> 02:23.520\\nin that null space is perfectly fine as an eigenvector.\\n\\n26\\n02:23.520 --> 02:31.860\\nNow that said the best choice for an eigenvector would be a vector that has a norm of 1 a magnitude\\n\\n27\\n02:31.860 --> 02:32.710\\nof 1.\\n\\n28\\n02:32.940 --> 02:39.270\\nAnd the second best choice would be integer values that are easy to interpret and compact to write like\\n\\n29\\n02:39.270 --> 02:40.230\\nthis.\\n\\n30\\n02:40.230 --> 02:40.500\\nAll right.\\n\\n31\\n02:40.520 --> 02:41.730\\nSo this was for two.\\n\\n32\\n02:41.730 --> 02:49.350\\nNow we go to the second eigenvalues which was seven and that gives us this matrix minus 4 1 and 4 minus\\n\\n33\\n02:49.350 --> 02:50.300\\n1.\\n\\n34\\n02:50.370 --> 02:57.210\\nAnd here a vector that could work as an eigenvector as a basis for the null space of this shifted matrix\\n\\n35\\n02:57.300 --> 02:59.790\\nis the numbers 1 4.\\n\\n36\\n02:59.820 --> 03:06.690\\nSo here is the big picture overview we have this matrix and here you see the eigenvalue and its corresponding\\n\\n37\\n03:06.690 --> 03:12.010\\neigenvector and the other eigenvalue and the other corresponding eigenvector.\\n\\n38\\n03:12.060 --> 03:14.080\\nNow your results will be correct.\\n\\n39\\n03:14.190 --> 03:21.960\\nIf you have the correct pairing of eigenvalue and any multiple any scaled version of this vector; it\\n\\n40\\n03:21.960 --> 03:28.860\\ndoesn't matter if you call this lambda one and this V one that's fine because there's no intrinsic ordering.\\n\\n41\\n03:28.860 --> 03:32.250\\nWhat matters is that you have the pairing correct.\\n\\n42\\n03:32.250 --> 03:32.470\\nAll right.\\n\\n43\\n03:32.490 --> 03:34.310\\nSo that was the two by two case.\\n\\n44\\n03:34.380 --> 03:37.080\\nNow let's go for a three by three case.\\n\\n45\\n03:37.080 --> 03:40.160\\nThis one is a little bit more challenging and I have to admit.\\n\\n46\\n03:40.200 --> 03:45.660\\nSo I first came up with these numbers and then I started computing the eigendecomposition.\\n\\n47\\n03:45.660 --> 03:50.480\\nNow I have to admit that I got stuck on one of the eigenvectors.\\n\\n48\\n03:50.670 --> 03:52.400\\nI couldn't quite figure it out on my own.\\n\\n49\\n03:52.430 --> 03:54.390\\nSo I used Matlab to compute that\\n\\n50\\n03:54.390 --> 03:55.200\\neigenvector.\\n\\n51\\n03:55.500 --> 04:04.490\\nSo what I encourage you to do is find all three eigenvalues by hand and I think it will be pretty obvious\\n\\n52\\n04:04.490 --> 04:08.390\\nwhen you start working through it which is the difficult eigenvalue.\\n\\n53\\n04:08.390 --> 04:15.530\\nSo then what you should do by hand is find two of the eigenvectors that you can get basically just by\\n\\n54\\n04:15.800 --> 04:18.920\\nkind of eyeballing and making some educated guesses.\\n\\n55\\n04:18.920 --> 04:24.860\\nAnd then the third eigenvector you can use a computer to solve or you can just wait and watch me come\\n\\n56\\n04:24.860 --> 04:26.660\\nup with a solution.\\n\\n57\\n04:26.850 --> 04:27.090\\nAll right.\\n\\n58\\n04:27.120 --> 04:34.590\\nSo again we start by shifting this matrix by minus lambda setting the determinant equal to zero and\\n\\n59\\n04:34.590 --> 04:40.770\\nthen proceeding to compute the determinant of this equation and altogether that gives us the characteristic\\n\\n60\\n04:40.830 --> 04:43.560\\nequation of this matrix.\\n\\n61\\n04:43.560 --> 04:45.270\\nNow this is a little bit longer.\\n\\n62\\n04:45.270 --> 04:50.820\\nIt's a little bit trickier the arithmetic gets a little bit hairy in particular you end up with this\\n\\n63\\n04:50.910 --> 04:59.240\\nminus lambda cubed term as well as a couple of multiple terms with Lambda and Lambda squared.\\n\\n64\\n04:59.250 --> 05:05.490\\nNow once you collect all of these like terms you'll end up with an expression that looks like this.\\n\\n65\\n05:05.520 --> 05:15.240\\nSo it should be minus lambda cubed plus 10 times lambda squared plus eleven lambda equals zero Now something\\n\\n66\\n05:15.270 --> 05:22.030\\ninteresting has happened here all of these terms have a lambda attached to them which means that we\\n\\n67\\n05:22.030 --> 05:29.950\\ncan take a lambda out of each of these terms and rewrite this expression as minus lambda times.\\n\\n68\\n05:29.980 --> 05:36.160\\nAll of this stuff and immediately that tells us that lambda equals zero is a solution.\\n\\n69\\n05:36.160 --> 05:43.030\\nSo when you set this lambda to be zero it doesn't actually matter what's inside this parenthetical statement\\n\\n70\\n05:43.360 --> 05:47.390\\nthat's immediately going to set to make this equation true.\\n\\n71\\n05:47.440 --> 05:55.300\\nThat means that one of the eigenvalues of this matrix is zero and I'm going to have an entire video\\n\\n72\\n05:55.330 --> 05:59.140\\njust about this phenomenon a little bit later in this section.\\n\\n73\\n05:59.140 --> 06:03.550\\nBut essentially when an eigenvector is an eigenvalue is zero.\\n\\n74\\n06:03.730 --> 06:10.360\\nIt means that the matrix is singular and that you can actually see by looking at this matrix and you\\n\\n75\\n06:10.360 --> 06:19.080\\nsee that column 1 plus column 2 equals column 3 so whenever you have a singular matrix at least one\\n\\n76\\n06:19.140 --> 06:22.110\\neigenvalues value is going to be equal to zero.\\n\\n77\\n06:22.170 --> 06:30.450\\nAnd in fact the number of eigenvalues that are equal to zero tells you about the rank of this matrix.\\n\\n78\\n06:30.490 --> 06:33.870\\nMore on that in the later video.\\n\\n79\\n06:33.880 --> 06:39.160\\nNow once you've gotten to this step you can further factor this equation and you end up with the result\\n\\n80\\n06:39.160 --> 06:44.360\\nthat lambda equals zero lambda equals minus 1 and Lambda equals eleven.\\n\\n81\\n06:44.590 --> 06:50.110\\nSo you can probably guess that this is going to be the tricky I can value to compute the corresponding\\n\\n82\\n06:50.110 --> 06:55.600\\nI can vector of and this is the one that I got a little bit stuck with.\\n\\n83\\n06:55.600 --> 06:57.490\\nAnd so I used Matlab as a crutch.\\n\\n84\\n06:57.490 --> 06:58.540\\nI cheated a little bit.\\n\\n85\\n06:59.250 --> 07:01.500\\nOK so but let's go through all of these.\\n\\n86\\n07:01.840 --> 07:07.840\\nSo we start with zero and now this is kind of a funny thing because we are shifting the matrix by zero\\n\\n87\\n07:08.200 --> 07:10.970\\nwhich actually means we're not changing the matrix at all.\\n\\n88\\n07:11.140 --> 07:21.000\\nAnd that means that this matrix A already has a non-trivial null space even without doing any shifting.\\n\\n89\\n07:21.130 --> 07:28.010\\nSo this problem actually boils down to finding a vector in the null space or a basis for the null space.\\n\\n90\\n07:28.270 --> 07:35.380\\nEven without doing any shifting so based on what I just told you about how do I set up this matrix that\\n\\n91\\n07:35.660 --> 07:42.950\\ncolumn one plus column two equals column three a basis for the null space is 1 one minus 1.\\n\\n92\\n07:42.970 --> 07:49.130\\nSo you can try for each of these rows the first column plus the second column minus the third column\\n\\n93\\n07:49.220 --> 07:52.090\\nequals zero all right.\\n\\n94\\n07:52.100 --> 07:53.270\\nSo now let's move on.\\n\\n95\\n07:53.270 --> 07:59.350\\nSo now we shift this matrix by eleven and this is basically where I got stuck and switch to matlab.\\n\\n96\\n07:59.360 --> 08:04.570\\nSo it turns out that eigenvector is nineteen forty one and thirty six.\\n\\n97\\n08:04.580 --> 08:10.430\\nSo if you figured out this I can vector on your own without using a computer then good for you you are\\n\\n98\\n08:10.460 --> 08:14.960\\na better or at least more patient mathematician than I am.\\n\\n99\\n08:15.200 --> 08:19.210\\nAnd then we get to the third eigenvalue which was minus one.\\n\\n100\\n08:19.220 --> 08:21.130\\nSo now that becomes plus one.\\n\\n101\\n08:21.230 --> 08:26.390\\nAnd here is that shifted matrix and this one you should be able to solve on your own.\\n\\n102\\n08:26.480 --> 08:28.810\\nIn fact it's even easier than it looks.\\n\\n103\\n08:28.820 --> 08:35.930\\nAnd if you need a hint before I show the answer then the hint is just consider that this third column\\n\\n104\\n08:36.020 --> 08:42.340\\nis actually pretty useless if you get rid of this third column it becomes really easy to find the \\n\\n105\\n08:42.380 --> 08:46.520\\neigenvector in this shifted matrices null space.\\n\\n106\\n08:46.790 --> 08:52.400\\nSo in fact it's one minus one and then zero you just set the third element to be zero.\\n\\n107\\n08:52.670 --> 08:59.810\\nSo that leads us to the big picture overview of the eigendecomposition of this three by three singular\\n\\n108\\n08:59.810 --> 09:06.130\\nmatrix rank 2 matrix we have eigenvalues 0 minus 11 and minus 1.\\n\\n109\\n09:06.200 --> 09:09.200\\nAnd these are the corresponding eigenvectors.\\n\\n110\\n09:09.200 --> 09:12.430\\nAnd notice I've written them as row vectors and then transpose.\\n\\n111\\n09:12.430 --> 09:19.160\\nSo these are still column vectors we generally always think about eigenvectors as column vectors and\\n\\n112\\n09:19.160 --> 09:25.640\\nyou will learn more about why that is the case in the video on diagonalization, which is coming up soon.\""
      ]
     },
     "execution_count": 50,
     "metadata": {},
     "output_type": "execute_result"
    }
   ],
   "source": [
    "# test removing first letters:\n",
    "re.sub('WEBVTT', '', text)"
   ]
  },
  {
   "cell_type": "code",
   "execution_count": 51,
   "metadata": {},
   "outputs": [],
   "source": [
    "# confirm that it works and call the new variable 'newtext'\n",
    "newtext = re.sub('WEBVTT', '', text) # remove first letters\n",
    "\n",
    "pattern2replace = r'\\n\\n.*\\n..:...... --> ..:......\\n' # the \\n.*\\n allows removing 1,2, or 3 digits as it counts up\n",
    "regex_pat = re.compile(pattern2replace)\n",
    "\n",
    "# replace anything match the above pattern with a space\n",
    "newtext = regex_pat.sub(' ', newtext)"
   ]
  },
  {
   "cell_type": "code",
   "execution_count": 52,
   "metadata": {
    "colab": {},
    "colab_type": "code",
    "id": "eicYTOb1-svq"
   },
   "outputs": [],
   "source": [
    "newtext = newtext[1:]"
   ]
  },
  {
   "cell_type": "code",
   "execution_count": 53,
   "metadata": {},
   "outputs": [
    {
     "data": {
      "text/plain": [
       "\"I'm now going to give you two more example problems of computing. eigendecomposition of matrices by hand. Obviously this is on the computer but I encourage you to do these problems by hand and they're not done in Matlab. So I guess that's what it means by hand. So let's get started. Here is a two by two matrix and you should pause the video go through find the eigenvalues and the eigenvectors of this matrix so the way we start is by shifting the matrix by Lambda so subtracting lambda from the diagonal elements setting the determinant equal to zero and then proceeding to compute the determinant which is also called the characteristic equation of this matrix. So that works out to be three minus lambda times six minus lambda minus four equals zero and then expanding these two terms multiplying out these two terms and then collecting the like terms gives us lambda squared minus nine lambda plus fourteen equals zero and then this expression here can be factored into lambda minus seven and Lambda minus two and now it's pretty easy to see that the two lambdas that will solve this equation that solve this equation. In other words the two eigenvalues of this matrix are plus 7 and plus two. So that was step one we found the eigenvalues of this matrix and now we go through for each of these eigenvalues shift the matrix by that amount by that value and then figure out what is a vector in the shifted matrices null space. OK so let's start with 2. So this gives us the matrix 1 1 4 4. And now we want to find the missing vector here and you've probably guessed it already it is 1 minus 1. And of course you know that also acceptable would be minus 1 1 or minus quadrillion plus quadrillion. This vector simply identifies a subspace for the null space of this shifted matrix in any vector that's in that null space is perfectly fine as an eigenvector. Now that said the best choice for an eigenvector would be a vector that has a norm of 1 a magnitude of 1. And the second best choice would be integer values that are easy to interpret and compact to write like this. All right. So this was for two. Now we go to the second eigenvalues which was seven and that gives us this matrix minus 4 1 and 4 minus 1. And here a vector that could work as an eigenvector as a basis for the null space of this shifted matrix is the numbers 1 4. So here is the big picture overview we have this matrix and here you see the eigenvalue and its corresponding eigenvector and the other eigenvalue and the other corresponding eigenvector. Now your results will be correct. If you have the correct pairing of eigenvalue and any multiple any scaled version of this vector; it doesn't matter if you call this lambda one and this V one that's fine because there's no intrinsic ordering. What matters is that you have the pairing correct. All right. So that was the two by two case. Now let's go for a three by three case. This one is a little bit more challenging and I have to admit. So I first came up with these numbers and then I started computing the eigendecomposition. Now I have to admit that I got stuck on one of the eigenvectors. I couldn't quite figure it out on my own. So I used Matlab to compute that eigenvector. So what I encourage you to do is find all three eigenvalues by hand and I think it will be pretty obvious when you start working through it which is the difficult eigenvalue. So then what you should do by hand is find two of the eigenvectors that you can get basically just by kind of eyeballing and making some educated guesses. And then the third eigenvector you can use a computer to solve or you can just wait and watch me come up with a solution. All right. So again we start by shifting this matrix by minus lambda setting the determinant equal to zero and then proceeding to compute the determinant of this equation and altogether that gives us the characteristic equation of this matrix. Now this is a little bit longer. It's a little bit trickier the arithmetic gets a little bit hairy in particular you end up with this minus lambda cubed term as well as a couple of multiple terms with Lambda and Lambda squared. Now once you collect all of these like terms you'll end up with an expression that looks like this. So it should be minus lambda cubed plus 10 times lambda squared plus eleven lambda equals zero Now something interesting has happened here all of these terms have a lambda attached to them which means that we can take a lambda out of each of these terms and rewrite this expression as minus lambda times. All of this stuff and immediately that tells us that lambda equals zero is a solution. So when you set this lambda to be zero it doesn't actually matter what's inside this parenthetical statement that's immediately going to set to make this equation true. That means that one of the eigenvalues of this matrix is zero and I'm going to have an entire video just about this phenomenon a little bit later in this section. But essentially when an eigenvector is an eigenvalue is zero. It means that the matrix is singular and that you can actually see by looking at this matrix and you see that column 1 plus column 2 equals column 3 so whenever you have a singular matrix at least one eigenvalues value is going to be equal to zero. And in fact the number of eigenvalues that are equal to zero tells you about the rank of this matrix. More on that in the later video. Now once you've gotten to this step you can further factor this equation and you end up with the result that lambda equals zero lambda equals minus 1 and Lambda equals eleven. So you can probably guess that this is going to be the tricky I can value to compute the corresponding I can vector of and this is the one that I got a little bit stuck with. And so I used Matlab as a crutch. I cheated a little bit. OK so but let's go through all of these. So we start with zero and now this is kind of a funny thing because we are shifting the matrix by zero which actually means we're not changing the matrix at all. And that means that this matrix A already has a non-trivial null space even without doing any shifting. So this problem actually boils down to finding a vector in the null space or a basis for the null space. Even without doing any shifting so based on what I just told you about how do I set up this matrix that column one plus column two equals column three a basis for the null space is 1 one minus 1. So you can try for each of these rows the first column plus the second column minus the third column equals zero all right. So now let's move on. So now we shift this matrix by eleven and this is basically where I got stuck and switch to matlab. So it turns out that eigenvector is nineteen forty one and thirty six. So if you figured out this I can vector on your own without using a computer then good for you you are a better or at least more patient mathematician than I am. And then we get to the third eigenvalue which was minus one. So now that becomes plus one. And here is that shifted matrix and this one you should be able to solve on your own. In fact it's even easier than it looks. And if you need a hint before I show the answer then the hint is just consider that this third column is actually pretty useless if you get rid of this third column it becomes really easy to find the  eigenvector in this shifted matrices null space. So in fact it's one minus one and then zero you just set the third element to be zero. So that leads us to the big picture overview of the eigendecomposition of this three by three singular matrix rank 2 matrix we have eigenvalues 0 minus 11 and minus 1. And these are the corresponding eigenvectors. And notice I've written them as row vectors and then transpose. So these are still column vectors we generally always think about eigenvectors as column vectors and you will learn more about why that is the case in the video on diagonalization, which is coming up soon.\""
      ]
     },
     "execution_count": 53,
     "metadata": {},
     "output_type": "execute_result"
    }
   ],
   "source": [
    "newtext"
   ]
  },
  {
   "cell_type": "markdown",
   "metadata": {
    "colab_type": "text",
    "id": "UnWVkgjNAS0W"
   },
   "source": [
    "# Replace 4-letter words and save to disk"
   ]
  },
  {
   "cell_type": "code",
   "execution_count": 76,
   "metadata": {
    "colab": {},
    "colab_type": "code",
    "id": "XYk7QPxjr7qy"
   },
   "outputs": [
    {
     "name": "stdout",
     "output_type": "stream",
     "text": [
      "1498\n"
     ]
    }
   ],
   "source": [
    "# convert newtext to words\n",
    "words = newtext.split()\n",
    "print(len(words))"
   ]
  },
  {
   "cell_type": "code",
   "execution_count": 77,
   "metadata": {
    "colab": {},
    "colab_type": "code",
    "id": "1AroQEgXgtYl"
   },
   "outputs": [],
   "source": [
    "# count the number of letters in each word\n",
    "\n",
    "# find all 4-letter words and replace with the first letter + ***.\n",
    "# example: duck -> d***\n",
    "\n",
    "i = 0\n",
    "for word in words:\n",
    "    if len(word)==4 and word[-1]!='.':\n",
    "        words[i] = re.sub(word, word[0]+'***', word)\n",
    "    elif len(word)==5 and word[-1]=='.':\n",
    "        words[i] = word[0]+'***'+word[4] # alternate simpler way without regex\n",
    "    i+=1"
   ]
  },
  {
   "cell_type": "code",
   "execution_count": 78,
   "metadata": {},
   "outputs": [
    {
     "data": {
      "text/plain": [
       "[\"I'm\",\n",
       " 'now',\n",
       " 'going',\n",
       " 'to',\n",
       " 'g***',\n",
       " 'you',\n",
       " 'two',\n",
       " 'm***',\n",
       " 'example',\n",
       " 'problems']"
      ]
     },
     "execution_count": 78,
     "metadata": {},
     "output_type": "execute_result"
    }
   ],
   "source": [
    "words[:10]"
   ]
  },
  {
   "cell_type": "code",
   "execution_count": 81,
   "metadata": {
    "colab": {},
    "colab_type": "code",
    "id": "Xngzuvi2jLIm"
   },
   "outputs": [],
   "source": [
    "# put back together from separate words into one string\n",
    "cleantext = ' '.join(words) # indicates to put a space between each word"
   ]
  },
  {
   "cell_type": "code",
   "execution_count": 83,
   "metadata": {
    "colab": {},
    "colab_type": "code",
    "id": "4iFSa-pqjn6G"
   },
   "outputs": [],
   "source": [
    "# Save back to disk\n",
    "with open('clean_transcript.txt','w') as f:\n",
    "  f.write(cleantext)\n",
    "\n",
    "f.close()"
   ]
  },
  {
   "cell_type": "markdown",
   "metadata": {
    "colab_type": "text",
    "id": "cEYUxH2OAizE"
   },
   "source": [
    "# Bonus: Readability of scrambled words"
   ]
  },
  {
   "cell_type": "code",
   "execution_count": 85,
   "metadata": {
    "colab": {},
    "colab_type": "code",
    "id": "FyqGIL85mAW8"
   },
   "outputs": [],
   "source": [
    "# A sentence\n",
    "text = \"I have often wondered whether it's possible to read an entire book faster if the useless letters were removed.\"\n"
   ]
  },
  {
   "cell_type": "code",
   "execution_count": 86,
   "metadata": {
    "colab": {},
    "colab_type": "code",
    "id": "f1hfXeOFnbXw"
   },
   "outputs": [],
   "source": [
    "# split the text into words\n",
    "words = text.split()"
   ]
  },
  {
   "cell_type": "code",
   "execution_count": 89,
   "metadata": {},
   "outputs": [],
   "source": [
    "import random"
   ]
  },
  {
   "cell_type": "code",
   "execution_count": 103,
   "metadata": {
    "colab": {},
    "colab_type": "code",
    "id": "ILrxpFoAxpb3"
   },
   "outputs": [],
   "source": [
    "# randomly scramble all letters within each word\n",
    "for word_i in range(len(words)):\n",
    "    x = list(words[word_i])\n",
    "    random.shuffle(x)\n",
    "    x = ''.join(x)\n",
    "    words[word_i] = x"
   ]
  },
  {
   "cell_type": "code",
   "execution_count": 104,
   "metadata": {
    "colab": {},
    "colab_type": "code",
    "id": "oEN_KfqvyJGe"
   },
   "outputs": [
    {
     "data": {
      "text/plain": [
       "\"I evah fonet ddoreenw rwehthe ts'i plisoseb ot aedr na nterie okob estafr fi het lssseue eetsrtl rwee ove.emrd\""
      ]
     },
     "execution_count": 104,
     "metadata": {},
     "output_type": "execute_result"
    }
   ],
   "source": [
    "# put back together into one string\n",
    "all_scramble = ' '.join(words)\n",
    "all_scramble"
   ]
  },
  {
   "cell_type": "code",
   "execution_count": null,
   "metadata": {
    "colab": {},
    "colab_type": "code",
    "id": "kf1qIVsppfJz"
   },
   "outputs": [],
   "source": [
    "# scramble all letters except first and last (only words with >3 letters)\n",
    "\n",
    "for word_i in range(len(words)):\n",
    "    x = list(words[word_i])\n",
    "    random.shuffle(x)\n",
    "    x = ''.join(x)\n",
    "    words[word_i] = x"
   ]
  },
  {
   "cell_type": "code",
   "execution_count": null,
   "metadata": {
    "colab": {},
    "colab_type": "code",
    "id": "USGdCKm3xUZo"
   },
   "outputs": [],
   "source": [
    "# replace with random letters\n",
    "\n"
   ]
  }
 ],
 "metadata": {
  "colab": {
   "authorship_tag": "ABX9TyOzxHJrPGunufN3PmMEobA3",
   "collapsed_sections": [],
   "name": "MasPy_TextReplace_helper.ipynb",
   "provenance": [
    {
     "file_id": "1h3t2-zol8EvzyN3ttq1zzcy7NwZoYiKO",
     "timestamp": 1595481710491
    },
    {
     "file_id": "1U4oG0A3DFC-XBWhvecYeA3YYReqHpShX",
     "timestamp": 1593323391700
    }
   ]
  },
  "kernelspec": {
   "display_name": "Python 3",
   "language": "python",
   "name": "python3"
  },
  "language_info": {
   "codemirror_mode": {
    "name": "ipython",
    "version": 3
   },
   "file_extension": ".py",
   "mimetype": "text/x-python",
   "name": "python",
   "nbconvert_exporter": "python",
   "pygments_lexer": "ipython3",
   "version": "3.8.3"
  }
 },
 "nbformat": 4,
 "nbformat_minor": 4
}
