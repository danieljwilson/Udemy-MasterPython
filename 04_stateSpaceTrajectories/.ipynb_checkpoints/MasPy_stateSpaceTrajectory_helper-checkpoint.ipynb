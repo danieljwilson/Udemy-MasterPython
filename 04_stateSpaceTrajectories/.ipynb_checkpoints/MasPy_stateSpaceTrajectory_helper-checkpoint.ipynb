{
 "cells": [
  {
   "cell_type": "markdown",
   "metadata": {
    "colab_type": "text",
    "id": "bhWV8oes-wKR"
   },
   "source": [
    "# COURSE: Master Python for scientific programming by solving projects\n",
    "## PROJECT: State-space trajectories via PCA\n",
    "#### TEACHER: Mike X Cohen, sincxpress.com\n",
    "##### COURSE URL: udemy.com/course/maspy_x/?couponCode=202010"
   ]
  },
  {
   "cell_type": "code",
   "execution_count": 1,
   "metadata": {
    "colab": {},
    "colab_type": "code",
    "id": "JL_0UKJOj1YP"
   },
   "outputs": [],
   "source": [
    "# import all necessary modules\n",
    "import numpy as np\n",
    "import matplotlib.pyplot as plt\n",
    "from scipy.io import loadmat"
   ]
  },
  {
   "cell_type": "markdown",
   "metadata": {
    "colab_type": "text",
    "id": "ILrxpFoAxpb3"
   },
   "source": [
    "# Import and extract the data"
   ]
  },
  {
   "cell_type": "markdown",
   "metadata": {
    "colab_type": "text",
    "id": "jNGjxSz9JFJE"
   },
   "source": [
    "Data are from http://crcns.org/data-sets/motor-cortex/alm-4/about-alm-4"
   ]
  },
  {
   "cell_type": "code",
   "execution_count": 2,
   "metadata": {
    "colab": {},
    "colab_type": "code",
    "id": "66NXjK0TmN15"
   },
   "outputs": [
    {
     "ename": "ModuleNotFoundError",
     "evalue": "No module named 'google'",
     "output_type": "error",
     "traceback": [
      "\u001b[0;31m---------------------------------------------------------------------------\u001b[0m",
      "\u001b[0;31mModuleNotFoundError\u001b[0m                       Traceback (most recent call last)",
      "\u001b[0;32m<ipython-input-2-b86d0f60fa50>\u001b[0m in \u001b[0;36m<module>\u001b[0;34m\u001b[0m\n\u001b[1;32m      1\u001b[0m \u001b[0;31m# without mapping the google-drive\u001b[0m\u001b[0;34m\u001b[0m\u001b[0;34m\u001b[0m\u001b[0;34m\u001b[0m\u001b[0m\n\u001b[0;32m----> 2\u001b[0;31m \u001b[0;32mfrom\u001b[0m \u001b[0mgoogle\u001b[0m\u001b[0;34m.\u001b[0m\u001b[0mcolab\u001b[0m \u001b[0;32mimport\u001b[0m \u001b[0mfiles\u001b[0m\u001b[0;34m\u001b[0m\u001b[0;34m\u001b[0m\u001b[0m\n\u001b[0m\u001b[1;32m      3\u001b[0m \u001b[0muploaded\u001b[0m \u001b[0;34m=\u001b[0m \u001b[0mfiles\u001b[0m\u001b[0;34m.\u001b[0m\u001b[0mupload\u001b[0m\u001b[0;34m(\u001b[0m\u001b[0;34m)\u001b[0m\u001b[0;34m\u001b[0m\u001b[0;34m\u001b[0m\u001b[0m\n",
      "\u001b[0;31mModuleNotFoundError\u001b[0m: No module named 'google'"
     ]
    }
   ],
   "source": [
    "# without mapping the google-drive\n",
    "from google.colab import files\n",
    "uploaded = files.upload()"
   ]
  },
  {
   "cell_type": "code",
   "execution_count": null,
   "metadata": {
    "colab": {},
    "colab_type": "code",
    "id": "2qlg4PF1mdVv"
   },
   "outputs": [],
   "source": [
    "# connect google drive\n",
    "from google.colab import drive\n",
    "drive.mount('/content/gdrive')\n"
   ]
  },
  {
   "cell_type": "code",
   "execution_count": null,
   "metadata": {
    "colab": {},
    "colab_type": "code",
    "id": "Wbu6W0R67dT-"
   },
   "outputs": [],
   "source": [
    "# import the data (via gdrive mapping or upload)\n",
    "# matdat = loadmat('/content/gdrive/My Drive/Colab Notebooks/maspy/stateSpaceTrajectories/ALMdata.mat')\n",
    "matdat = loadmat('/content/ALMdata.mat')\n",
    "\n",
    "Nopr = matdat['PSTH_nonprefer_cue_aligned']\n",
    "Pref = matdat['PSTH_prefer_cue_aligned']\n",
    "t = matdat['t'][0]\n",
    "chanidx = matdat['Channel_all']\n",
    "\n",
    "# examine sizes of the variables\n",
    "print(Nopr.shape), print(' ')\n",
    "print(Pref.shape), print(' ')\n",
    "print(t.shape), print(' ')\n",
    "print(chanidx.shape)\n",
    "\n",
    "# convert chanidx to an orientationless array\n"
   ]
  },
  {
   "cell_type": "markdown",
   "metadata": {
    "colab_type": "text",
    "id": "x3yCpp1mIY4B"
   },
   "source": [
    "# Inspect and clean the data"
   ]
  },
  {
   "cell_type": "code",
   "execution_count": null,
   "metadata": {
    "colab": {},
    "colab_type": "code",
    "id": "_YAzoSQ9mwX2"
   },
   "outputs": [],
   "source": [
    "# Let's have a look at the data\n",
    "\n",
    "fig,ax = plt.subplots(1,2,figsize=(8,5))\n",
    "\n",
    "# show images of the preferred and non-preferred datasets\n",
    "\n",
    "ax[0].imshow\n",
    "ax[0].set_aspect\n",
    "\n",
    "ax[1].imshow\n",
    "ax[1].set_aspect\n",
    "\n",
    "plt.show()"
   ]
  },
  {
   "cell_type": "code",
   "execution_count": null,
   "metadata": {
    "colab": {},
    "colab_type": "code",
    "id": "EgPVppRb-MvE"
   },
   "outputs": [],
   "source": [
    "# investigate the \"white spaces\" by plotting some individual rows\n",
    "\n"
   ]
  },
  {
   "cell_type": "code",
   "execution_count": null,
   "metadata": {
    "colab": {},
    "colab_type": "code",
    "id": "UQSyOF5g56GU"
   },
   "outputs": [],
   "source": [
    "# an aside on the chanidx vector\n",
    "\n",
    "plt.plot(chanidx,'s')\n",
    "plt.show()\n",
    "\n",
    "np.unique(chanidx)"
   ]
  },
  {
   "cell_type": "code",
   "execution_count": null,
   "metadata": {
    "colab": {},
    "colab_type": "code",
    "id": "HCDX6xaoB6kJ"
   },
   "outputs": [],
   "source": [
    "# remove NaN rows from Nopr, Pref, and chanidx\n",
    "\n"
   ]
  },
  {
   "cell_type": "code",
   "execution_count": null,
   "metadata": {
    "colab": {},
    "colab_type": "code",
    "id": "xecd42u31b75"
   },
   "outputs": [],
   "source": [
    "# Let's have a look at the data (same images as done earlier)\n",
    "\n",
    "plt.show()"
   ]
  },
  {
   "cell_type": "code",
   "execution_count": null,
   "metadata": {
    "colab": {},
    "colab_type": "code",
    "id": "IWYUxBalCR2w"
   },
   "outputs": [],
   "source": [
    "# plot the average time series\n",
    "\n",
    "\n",
    "plt.legend()\n",
    "plt.xlabel('Time (s)')\n",
    "plt.ylabel('Activity (a.u.)')\n",
    "plt.show()"
   ]
  },
  {
   "cell_type": "markdown",
   "metadata": {
    "colab_type": "text",
    "id": "aq63PSkn2ycg"
   },
   "source": [
    "# Create channel covariance matrix"
   ]
  },
  {
   "cell_type": "code",
   "execution_count": null,
   "metadata": {
    "colab": {},
    "colab_type": "code",
    "id": "vxvEh-rN3VyZ"
   },
   "outputs": [],
   "source": [
    "# we need first to average over trials per channel\n",
    "\n",
    "# number of channels (convenience variable)\n",
    "nchans = np.max(chanidx)\n",
    "\n",
    "# initialize the matrices\n",
    "chanaveNopr = np.zeros(\n",
    "chanavePref = np.zeros(\n",
    "\n",
    "# loop over channels, and get the average time series for that channel\n",
    "\n"
   ]
  },
  {
   "cell_type": "code",
   "execution_count": null,
   "metadata": {
    "colab": {},
    "colab_type": "code",
    "id": "-yUPspgO88m9"
   },
   "outputs": [],
   "source": [
    "# Let's have a look at the data, also with images but now of the new data matrices\n",
    "\n",
    "fig,ax = plt.subplots(1,2,figsize=(8,5))\n",
    "\n",
    "ax[0].imshow\n",
    "\n",
    "ax[1].imshow\n",
    "\n",
    "plt.show()"
   ]
  },
  {
   "cell_type": "code",
   "execution_count": null,
   "metadata": {
    "colab": {},
    "colab_type": "code",
    "id": "cw2T7kUzmp_k"
   },
   "outputs": [],
   "source": [
    "# now create the covariance matrix\n",
    "\n",
    "# average both conditions (pref and nopref) together\n",
    "#  mean-center each row\n",
    "\n",
    "# check that average over time within each channel is zero\n",
    "print(chanaveBoth.mean(axis=1))\n",
    "\n",
    "# compute covariance matrix\n",
    "covmat = \n",
    "\n",
    "# show it!\n",
    "plt.imshow(covmat,vmin=-2,vmax=2)\n",
    "plt.xlabel('Channels')\n",
    "plt.ylabel('Channels')\n",
    "plt.show()"
   ]
  },
  {
   "cell_type": "markdown",
   "metadata": {
    "colab_type": "text",
    "id": "Opo2s0K-_oUD"
   },
   "source": [
    "# now for the PCA"
   ]
  },
  {
   "cell_type": "code",
   "execution_count": null,
   "metadata": {
    "colab": {},
    "colab_type": "code",
    "id": "dbRf9tmdAIVw"
   },
   "outputs": [],
   "source": [
    "# eigendecomposition (tip: use eigh)\n",
    "\n",
    "\n",
    "# sort the solutions according to the eigenvalues (sort the eigenvectors too!)\n",
    "\n",
    "\n",
    "plt.plot(evals,'ko',markerfacecolor='w',markersize=12)\n",
    "plt.xlabel('Component')\n",
    "plt.ylabel('$\\lambda$')\n",
    "plt.show()\n"
   ]
  },
  {
   "cell_type": "code",
   "execution_count": null,
   "metadata": {
    "colab": {},
    "colab_type": "code",
    "id": "ANMKc7GABACW"
   },
   "outputs": [],
   "source": [
    "# compute the PCs\n",
    "\n",
    "# flip eigenvector sign according to max value\n",
    "for i in range(nchans):\n",
    "  # find maximum component value (np.argmax)\n",
    "  \n",
    "  # enforce that the largest-magnitude eigenvector element is positive\n",
    "  evecs[:,i] *= np.sign\n",
    "\n",
    "\n",
    "# compute PCs as top 2 eigenvectors times the data matrices\n",
    "pcNopr = \n",
    "pcPref = \n",
    "\n",
    "# plot as time series\n",
    "plt.plot(t,pcNopr.T, t,pcPref.T)\n",
    "plt.show()\n"
   ]
  },
  {
   "cell_type": "markdown",
   "metadata": {
    "colab_type": "text",
    "id": "VwchJmrtIyuN"
   },
   "source": [
    "# Create the state-space trajectory"
   ]
  },
  {
   "cell_type": "code",
   "execution_count": null,
   "metadata": {
    "colab": {},
    "colab_type": "code",
    "id": "7ey5VOxqCbO_"
   },
   "outputs": [],
   "source": [
    "# state-space diagram\n",
    "\n",
    "\n",
    "plt.show()"
   ]
  },
  {
   "cell_type": "markdown",
   "metadata": {
    "colab_type": "text",
    "id": "Q_55GRYdDmuO"
   },
   "source": [
    "# Bonus: Draw time as hue"
   ]
  },
  {
   "cell_type": "code",
   "execution_count": null,
   "metadata": {
    "colab": {},
    "colab_type": "code",
    "id": "UQwDsvalDp-V"
   },
   "outputs": [],
   "source": [
    "# tip: use seaborn's scatterplot function\n"
   ]
  }
 ],
 "metadata": {
  "colab": {
   "authorship_tag": "ABX9TyM+s1tc8/P/3b1IvJaFHfVL",
   "collapsed_sections": [],
   "name": "MasPy_stateSpaceTrajectory_helper.ipynb",
   "provenance": [
    {
     "file_id": "18zXg3FILjcMYYB28_YSBloU-QfPG3wsN",
     "timestamp": 1595485473586
    },
    {
     "file_id": "1NmcanN7lXBn4Ft6qe-LgtMffVWiaEUVx",
     "timestamp": 1594883068121
    },
    {
     "file_id": "1Zx4etz7dXc_s_xROtXosPT-bWaaOJQOc",
     "timestamp": 1593532106823
    },
    {
     "file_id": "1h3t2-zol8EvzyN3ttq1zzcy7NwZoYiKO",
     "timestamp": 1593374650456
    },
    {
     "file_id": "1U4oG0A3DFC-XBWhvecYeA3YYReqHpShX",
     "timestamp": 1593323391700
    }
   ]
  },
  "kernelspec": {
   "display_name": "Python 3",
   "language": "python",
   "name": "python3"
  },
  "language_info": {
   "codemirror_mode": {
    "name": "ipython",
    "version": 3
   },
   "file_extension": ".py",
   "mimetype": "text/x-python",
   "name": "python",
   "nbconvert_exporter": "python",
   "pygments_lexer": "ipython3",
   "version": "3.8.3"
  }
 },
 "nbformat": 4,
 "nbformat_minor": 4
}
